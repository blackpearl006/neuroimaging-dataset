{
 "cells": [
  {
   "cell_type": "markdown",
   "id": "c0d750ca",
   "metadata": {},
   "source": [
    "# Datatsets\n",
    "Detailed description of how to download them"
   ]
  },
  {
   "cell_type": "markdown",
   "id": "fed97560",
   "metadata": {},
   "source": [
    "## DLBS\n",
    "\n",
    "Summary: The Dallas Lifespan Brain Study (DLBS) is a major effort designed to understand the antecedents of preservation and decline of cognitive function at different stages of the adult lifespan, with a particular interest in the early stages of a healthy brain’s march towards Alzheimer Disease. The DLBS aims to (1) understand how brain atrophy as well as accumulation of amyloid and tau affects healthy aging and cognition, (2) understand how the brain develops “neural scaffolds” to support cognition, and also (3) develop a corpus of research on the cognitive neuroscience of middle age. We have enrolled 350 healthy adults, aged 20-89 in the study who are thoroughly characterized in terms of cognition, brain structure and brain function across the adult lifespan. At Wave 1, DLBS participants received a structural MRI with DTI, three task-based functional MRI scans, and a resting state scan on a Philips 3T scanner and extensive cognitive testing combined with a detailed psychosocial battery. Amyloid imaging, using F-18 Florbetapir was conducted on a Siemens ECAT HR PET scanner on 60% of the sample during Wave 1. The DLBS is one of the most complete studies of the aging mind that is available, particularly in the United States, and can address many important hypotheses regarding the cognitive neuroscience of aging.\n",
    "\n",
    "Data: \n",
    "Cognitive data (N = 315)\n",
    "Anatomical MRI scans (N = 315)\n",
    "Amyloid PET scans (N =147)\n",
    "APOE gene information (N = 264, will add APOE for remaining subjects shortly)\n",
    "Demographic information: Age, gender, race, ethnicity categories, Education, MMSE scores\n",
    "\n",
    "Project Page : [https://fcon_1000.projects.nitrc.org/indi/retro/dlbs.html](https://fcon_1000.projects.nitrc.org/indi/retro/dlbs.html)"
   ]
  },
  {
   "cell_type": "markdown",
   "id": "c2d8132e",
   "metadata": {},
   "source": [
    "## HBN"
   ]
  },
  {
   "cell_type": "markdown",
   "id": "921fa492",
   "metadata": {},
   "source": [
    "## PNC"
   ]
  },
  {
   "cell_type": "markdown",
   "id": "5eac09ea",
   "metadata": {},
   "source": [
    "## BHRC"
   ]
  },
  {
   "cell_type": "markdown",
   "id": "a656fc56",
   "metadata": {},
   "source": [
    "# Pre-requisites\n",
    "Before starting downloading the MRI images, please chaeack if you have the necessary tools to effcicinetly download, process and anlayse the data"
   ]
  },
  {
   "cell_type": "markdown",
   "id": "3d9f42b8",
   "metadata": {},
   "source": [
    "## Accounts\n",
    "\n",
    "1. Nitrc\n",
    "2. AWS"
   ]
  },
  {
   "cell_type": "markdown",
   "id": "a76c5f03",
   "metadata": {},
   "source": [
    "## Packages\n",
    "1. Aria2c\n",
    "2. DataLad\n",
    "3. aws\n",
    "4. PyTorch"
   ]
  },
  {
   "cell_type": "markdown",
   "id": "2d09fbd5",
   "metadata": {},
   "source": [
    "## ToolBox\n",
    "1. FSL\n",
    "2. ANTs-N4BiasCorrection\n",
    "3. neuroHarmonise"
   ]
  }
 ],
 "metadata": {
  "language_info": {
   "name": "python"
  }
 },
 "nbformat": 4,
 "nbformat_minor": 5
}
